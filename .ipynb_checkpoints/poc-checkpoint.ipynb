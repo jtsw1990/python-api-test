{
 "cells": [
  {
   "cell_type": "markdown",
   "metadata": {},
   "source": [
    "# Proof of concept claims model"
   ]
  },
  {
   "cell_type": "markdown",
   "metadata": {},
   "source": [
    "## Import -> requirements.txt"
   ]
  },
  {
   "cell_type": "code",
   "execution_count": 86,
   "metadata": {},
   "outputs": [],
   "source": [
    "import pandas as pd\n",
    "import statsmodels.api as sm\n",
    "from statsmodels.iolib.smpickle import load_pickle"
   ]
  },
  {
   "cell_type": "markdown",
   "metadata": {},
   "source": [
    "## Read in data"
   ]
  },
  {
   "cell_type": "code",
   "execution_count": 2,
   "metadata": {},
   "outputs": [],
   "source": [
    "df = pd.read_csv(\"data/insurance.csv\")"
   ]
  },
  {
   "cell_type": "markdown",
   "metadata": {},
   "source": [
    "## Process data\n",
    "- Ignore scaling for now, use parametric ML model"
   ]
  },
  {
   "cell_type": "markdown",
   "metadata": {},
   "source": [
    "### One hot encoding"
   ]
  },
  {
   "cell_type": "code",
   "execution_count": 13,
   "metadata": {},
   "outputs": [],
   "source": [
    "RESPONSE = \"charges\""
   ]
  },
  {
   "cell_type": "code",
   "execution_count": 40,
   "metadata": {},
   "outputs": [],
   "source": [
    "cat_features = [x for x in df.columns if (x != RESPONSE) & (df[x].dtype == \"O\")]\n",
    "num_features = [x for x in df.columns if (x != RESPONSE) & (x not in cat_features)]"
   ]
  },
  {
   "cell_type": "code",
   "execution_count": 46,
   "metadata": {},
   "outputs": [],
   "source": [
    "cat_features_ohe = pd.get_dummies(df[cat_features]).reset_index(drop=True)"
   ]
  },
  {
   "cell_type": "code",
   "execution_count": 62,
   "metadata": {},
   "outputs": [],
   "source": [
    "total_features_ohe = num_features + list(cat_features_ohe.columns)"
   ]
  },
  {
   "cell_type": "code",
   "execution_count": 49,
   "metadata": {},
   "outputs": [],
   "source": [
    "df_ohe = pd.concat([\n",
    "    df[num_features],\n",
    "    cat_features_ohe,\n",
    "    df[RESPONSE]\n",
    "], axis=1)"
   ]
  },
  {
   "cell_type": "markdown",
   "metadata": {},
   "source": [
    "## Model"
   ]
  },
  {
   "cell_type": "code",
   "execution_count": 108,
   "metadata": {},
   "outputs": [],
   "source": [
    "df_features_intercept = df_ohe[total_features_ohe]\n",
    "gamma_model = sm.GLM(df_ohe[RESPONSE], df_features_intercept, family=sm.families.Gamma(sm.families.links.log()))\n",
    "glm_results = gamma_model.fit()"
   ]
  },
  {
   "cell_type": "code",
   "execution_count": 109,
   "metadata": {
    "scrolled": true
   },
   "outputs": [
    {
     "data": {
      "text/html": [
       "<table class=\"simpletable\">\n",
       "<caption>Generalized Linear Model Regression Results</caption>\n",
       "<tr>\n",
       "  <th>Dep. Variable:</th>        <td>charges</td>     <th>  No. Observations:  </th>  <td>  1338</td> \n",
       "</tr>\n",
       "<tr>\n",
       "  <th>Model:</th>                  <td>GLM</td>       <th>  Df Residuals:      </th>  <td>  1329</td> \n",
       "</tr>\n",
       "<tr>\n",
       "  <th>Model Family:</th>          <td>Gamma</td>      <th>  Df Model:          </th>  <td>     8</td> \n",
       "</tr>\n",
       "<tr>\n",
       "  <th>Link Function:</th>          <td>log</td>       <th>  Scale:             </th> <td> 0.46695</td>\n",
       "</tr>\n",
       "<tr>\n",
       "  <th>Method:</th>                <td>IRLS</td>       <th>  Log-Likelihood:    </th> <td> -13307.</td>\n",
       "</tr>\n",
       "<tr>\n",
       "  <th>Date:</th>            <td>Tue, 19 Apr 2022</td> <th>  Deviance:          </th> <td>  337.73</td>\n",
       "</tr>\n",
       "<tr>\n",
       "  <th>Time:</th>                <td>00:10:06</td>     <th>  Pearson chi2:      </th>  <td>  621.</td> \n",
       "</tr>\n",
       "<tr>\n",
       "  <th>No. Iterations:</th>         <td>18</td>        <th>                     </th>     <td> </td>   \n",
       "</tr>\n",
       "<tr>\n",
       "  <th>Covariance Type:</th>     <td>nonrobust</td>    <th>                     </th>     <td> </td>   \n",
       "</tr>\n",
       "</table>\n",
       "<table class=\"simpletable\">\n",
       "<tr>\n",
       "          <td></td>            <th>coef</th>     <th>std err</th>      <th>z</th>      <th>P>|z|</th>  <th>[0.025</th>    <th>0.975]</th>  \n",
       "</tr>\n",
       "<tr>\n",
       "  <th>age</th>              <td>    0.0286</td> <td>    0.001</td> <td>   21.351</td> <td> 0.000</td> <td>    0.026</td> <td>    0.031</td>\n",
       "</tr>\n",
       "<tr>\n",
       "  <th>bmi</th>              <td>    0.0141</td> <td>    0.003</td> <td>    4.381</td> <td> 0.000</td> <td>    0.008</td> <td>    0.020</td>\n",
       "</tr>\n",
       "<tr>\n",
       "  <th>children</th>         <td>    0.0842</td> <td>    0.016</td> <td>    5.419</td> <td> 0.000</td> <td>    0.054</td> <td>    0.115</td>\n",
       "</tr>\n",
       "<tr>\n",
       "  <th>sex_female</th>       <td>    3.2372</td> <td>    0.047</td> <td>   68.646</td> <td> 0.000</td> <td>    3.145</td> <td>    3.330</td>\n",
       "</tr>\n",
       "<tr>\n",
       "  <th>sex_male</th>         <td>    3.1801</td> <td>    0.048</td> <td>   66.376</td> <td> 0.000</td> <td>    3.086</td> <td>    3.274</td>\n",
       "</tr>\n",
       "<tr>\n",
       "  <th>smoker_no</th>        <td>    2.4585</td> <td>    0.047</td> <td>   51.978</td> <td> 0.000</td> <td>    2.366</td> <td>    2.551</td>\n",
       "</tr>\n",
       "<tr>\n",
       "  <th>smoker_yes</th>       <td>    3.9589</td> <td>    0.052</td> <td>   76.725</td> <td> 0.000</td> <td>    3.858</td> <td>    4.060</td>\n",
       "</tr>\n",
       "<tr>\n",
       "  <th>region_northeast</th> <td>    1.6906</td> <td>    0.037</td> <td>   45.153</td> <td> 0.000</td> <td>    1.617</td> <td>    1.764</td>\n",
       "</tr>\n",
       "<tr>\n",
       "  <th>region_northwest</th> <td>    1.6327</td> <td>    0.038</td> <td>   43.380</td> <td> 0.000</td> <td>    1.559</td> <td>    1.706</td>\n",
       "</tr>\n",
       "<tr>\n",
       "  <th>region_southeast</th> <td>    1.5490</td> <td>    0.043</td> <td>   35.994</td> <td> 0.000</td> <td>    1.465</td> <td>    1.633</td>\n",
       "</tr>\n",
       "<tr>\n",
       "  <th>region_southwest</th> <td>    1.5451</td> <td>    0.040</td> <td>   39.032</td> <td> 0.000</td> <td>    1.468</td> <td>    1.623</td>\n",
       "</tr>\n",
       "</table>"
      ],
      "text/plain": [
       "<class 'statsmodels.iolib.summary.Summary'>\n",
       "\"\"\"\n",
       "                 Generalized Linear Model Regression Results                  \n",
       "==============================================================================\n",
       "Dep. Variable:                charges   No. Observations:                 1338\n",
       "Model:                            GLM   Df Residuals:                     1329\n",
       "Model Family:                   Gamma   Df Model:                            8\n",
       "Link Function:                    log   Scale:                         0.46695\n",
       "Method:                          IRLS   Log-Likelihood:                -13307.\n",
       "Date:                Tue, 19 Apr 2022   Deviance:                       337.73\n",
       "Time:                        00:10:06   Pearson chi2:                     621.\n",
       "No. Iterations:                    18                                         \n",
       "Covariance Type:            nonrobust                                         \n",
       "====================================================================================\n",
       "                       coef    std err          z      P>|z|      [0.025      0.975]\n",
       "------------------------------------------------------------------------------------\n",
       "age                  0.0286      0.001     21.351      0.000       0.026       0.031\n",
       "bmi                  0.0141      0.003      4.381      0.000       0.008       0.020\n",
       "children             0.0842      0.016      5.419      0.000       0.054       0.115\n",
       "sex_female           3.2372      0.047     68.646      0.000       3.145       3.330\n",
       "sex_male             3.1801      0.048     66.376      0.000       3.086       3.274\n",
       "smoker_no            2.4585      0.047     51.978      0.000       2.366       2.551\n",
       "smoker_yes           3.9589      0.052     76.725      0.000       3.858       4.060\n",
       "region_northeast     1.6906      0.037     45.153      0.000       1.617       1.764\n",
       "region_northwest     1.6327      0.038     43.380      0.000       1.559       1.706\n",
       "region_southeast     1.5490      0.043     35.994      0.000       1.465       1.633\n",
       "region_southwest     1.5451      0.040     39.032      0.000       1.468       1.623\n",
       "====================================================================================\n",
       "\"\"\""
      ]
     },
     "execution_count": 109,
     "metadata": {},
     "output_type": "execute_result"
    }
   ],
   "source": [
    "glm_results.summary()"
   ]
  },
  {
   "cell_type": "markdown",
   "metadata": {},
   "source": [
    "## Export"
   ]
  },
  {
   "cell_type": "code",
   "execution_count": 110,
   "metadata": {},
   "outputs": [],
   "source": [
    "glm_results.save(\"model/claims_model.pickle\")"
   ]
  },
  {
   "cell_type": "markdown",
   "metadata": {},
   "source": [
    "## Import and predict"
   ]
  },
  {
   "cell_type": "code",
   "execution_count": 111,
   "metadata": {},
   "outputs": [],
   "source": [
    "loaded_model = load_pickle(\"model/claims_model.pickle\")"
   ]
  },
  {
   "cell_type": "code",
   "execution_count": 127,
   "metadata": {},
   "outputs": [],
   "source": [
    "json_call = {\n",
    "        \"age\": 19,\n",
    "        \"bmi\": 30,\n",
    "        \"children\": 0,\n",
    "        \"sex_female\": 1,\n",
    "        \"sex_male\": 0,\n",
    "        \"smoker_no\": 1,\n",
    "        \"smoker_yes\": 0,\n",
    "        \"region_northeast\": 0,\n",
    "        \"region_northwest\": 0,\n",
    "        \"region_southeast\": 0,\n",
    "        \"region_southwest\": 1\n",
    "    }"
   ]
  },
  {
   "cell_type": "code",
   "execution_count": 139,
   "metadata": {},
   "outputs": [],
   "source": [
    "json_call_formatted = np.array([x[-1] for x in list(json_call.items())])"
   ]
  },
  {
   "cell_type": "code",
   "execution_count": 140,
   "metadata": {
    "scrolled": true
   },
   "outputs": [
    {
     "data": {
      "text/plain": [
       "array([3672.7133053])"
      ]
     },
     "execution_count": 140,
     "metadata": {},
     "output_type": "execute_result"
    }
   ],
   "source": [
    "loaded_model.predict(json_call_formatted)"
   ]
  },
  {
   "cell_type": "code",
   "execution_count": null,
   "metadata": {},
   "outputs": [],
   "source": []
  }
 ],
 "metadata": {
  "kernelspec": {
   "display_name": "Python 3",
   "language": "python",
   "name": "python3"
  },
  "language_info": {
   "codemirror_mode": {
    "name": "ipython",
    "version": 3
   },
   "file_extension": ".py",
   "mimetype": "text/x-python",
   "name": "python",
   "nbconvert_exporter": "python",
   "pygments_lexer": "ipython3",
   "version": "3.8.5"
  }
 },
 "nbformat": 4,
 "nbformat_minor": 4
}
